{
  "cells": [
    {
      "cell_type": "code",
      "execution_count": null,
      "id": "84380311",
      "metadata": {
        "id": "84380311"
      },
      "outputs": [],
      "source": [
        "#RNN with attention"
      ]
    },
    {
      "cell_type": "code",
      "execution_count": null,
      "id": "1537eb9e",
      "metadata": {
        "id": "1537eb9e"
      },
      "outputs": [],
      "source": [
        "import tensorflow as tf\n",
        "import matplotlib.pyplot as plt\n",
        "import re\n",
        "from tqdm import tqdm\n",
        "import pandas as pd\n",
        "import numpy as np\n",
        "from keras.models import Sequential,Model,load_model\n",
        "from keras.layers import Dense,LSTM,GRU,SimpleRNN,Input,Dropout,TimeDistributed,RepeatVector,dot,BatchNormalization,concatenate,multiply,Activation\n",
        "from keras.layers.embeddings import Embedding\n",
        "from keras.layers import Layer\n",
        "from keras.preprocessing import sequence\n",
        "# updated as tensorflow.keras\n",
        "from tensorflow.keras.optimizers import Adam,Adadelta,Nadam,SGD\n",
        "from keras.losses import SparseCategoricalCrossentropy"
      ]
    },
    {
      "cell_type": "code",
      "execution_count": null,
      "id": "5d96f645",
      "metadata": {
        "id": "5d96f645"
      },
      "outputs": [],
      "source": [
        "class AttentionModel(Layer):\n",
        "  def __init__(self, units):\n",
        "    super(AttentionModel, self).__init__()\n",
        "    self.W1 = Dense(units)\n",
        "    self.W2 = Dense(units)\n",
        "    self.V = Dense(1)\n",
        "\n",
        "  def call(self, query, values):\n",
        "    query_with_time_axis = tf.expand_dims(query, 1)\n",
        "    \n",
        "    score = self.V(tf.nn.tanh(\n",
        "        self.W1(query_with_time_axis) + self.W2(values)))\n",
        "    \n",
        "    attention_wts = tf.nn.softmax(score, axis=1)\n",
        "    context_vector = tf.reduce_sum((attention_wts * values), axis=1)\n",
        "\n",
        "    return context_vector, attention_wts"
      ]
    },
    {
      "cell_type": "code",
      "execution_count": null,
      "id": "20b5032a",
      "metadata": {
        "id": "20b5032a"
      },
      "outputs": [],
      "source": [
        "class Encoder(Model):\n",
        "  def __init__(self,cell,vocab_size, embedding_dim, latent_dim, batch_size,initializer,dropouts):\n",
        "    super(Encoder, self).__init__()\n",
        "    self.cell = cell\n",
        "    self.batch_size = batch_size\n",
        "    self.latent_dim = latent_dim\n",
        "    self.embedding = Embedding(vocab_size, embedding_dim)\n",
        "    if cell == \"gru\":\n",
        "        self.gru = GRU(latent_dim,return_sequences=True,return_state=True,recurrent_initializer = initializer,dropout=dropouts)\n",
        "    elif cell == \"lstm\":\n",
        "        self.lstm = LSTM(latent_dim,return_sequences=True,return_state=True,recurrent_initializer = initializer,dropout=dropouts)\n",
        "    elif cell == \"rnn\":\n",
        "        self.rnn = SimpleRNN(latent_dim,return_sequences=True,return_state=True,recurrent_initializer = initializer,dropout=dropouts)\n",
        "\n",
        "\n",
        "  def call(self, x, hidden):\n",
        "    x = self.embedding(x)\n",
        "    if self.cell == \"gru\":\n",
        "        output, state = self.gru(x, initial_state=hidden)\n",
        "    elif self.cell == \"lstm\":\n",
        "        output, state, state_c= self.lstm(x, initial_state=hidden)\n",
        "    elif self.cell == \"rnn\":\n",
        "        output, state = self.rnn(x, initial_state=hidden)\n",
        "    return output, state\n",
        "\n",
        "  def init_hidden_state(self):\n",
        "      if self.cell == 'lstm':\n",
        "          return [tf.zeros((self.batch_size, self.latent_dim)),tf.zeros((self.batch_size, self.latent_dim))]\n",
        "      return tf.zeros((self.batch_size, self.latent_dim))"
      ]
    },
    {
      "cell_type": "code",
      "execution_count": null,
      "id": "fabed88d",
      "metadata": {
        "id": "fabed88d"
      },
      "outputs": [],
      "source": [
        "class Decoder(Model):\n",
        "  def __init__(self, cell, vocab_size, embedding_dim, latent_dim, batch_size,initializer,dropouts):\n",
        "    super(Decoder, self).__init__()\n",
        "    self.cell = cell\n",
        "    self.batch_size = batch_size\n",
        "    self.attention = AttentionModel(latent_dim)\n",
        "    self.embedding = Embedding(vocab_size, embedding_dim)\n",
        "    self.dense = Dense(vocab_size)\n",
        "    if cell == \"gru\":\n",
        "        self.gru = GRU(latent_dim,return_sequences=True,return_state=True,recurrent_initializer = initializer,dropout=dropouts)\n",
        "    elif cell == \"lstm\":\n",
        "        self.lstm = LSTM(latent_dim,return_sequences=True,return_state=True,recurrent_initializer = initializer,dropout=dropouts)\n",
        "    elif cell == \"rnn\":\n",
        "        self.rnn = SimpleRNN(latent_dim,return_sequences=True,return_state=True,recurrent_initializer = initializer,dropout=dropouts)\n",
        "\n",
        "  def call(self, x, hidden, enc_output):\n",
        "    context_vector, attention_weights = self.attention(hidden, enc_output)\n",
        "\n",
        "    x = self.embedding(x)\n",
        "    x = tf.concat([tf.expand_dims(context_vector, 1), x], axis=-1)\n",
        "    if self.cell == \"gru\":\n",
        "        output, state = self.gru(x)\n",
        "    elif self.cell == \"lstm\":\n",
        "        output, state,state_c = self.lstm(x)\n",
        "    elif self.cell == \"rnn\":\n",
        "        output, state = self.rnn(x)\n",
        "\n",
        "    output = tf.reshape(output, (-1, output.shape[2]))\n",
        "    x = self.dense(output)\n",
        "\n",
        "    return x, state, attention_weights"
      ]
    },
    {
      "cell_type": "code",
      "execution_count": null,
      "id": "1a103015",
      "metadata": {
        "id": "1a103015"
      },
      "outputs": [],
      "source": [
        "class Attention:\n",
        "    def __init__(self,cell,embedding_size,latent_dim,optimizer,dropouts,batch_size,epochs,initializer):\n",
        "        self.cell = cell\n",
        "        self.embedding_dim = embedding_size\n",
        "        self.latent_dim = latent_dim\n",
        "        self.BATCH_SIZE = batch_size\n",
        "        self.epochs = epochs\n",
        "        self.opt = optimizer\n",
        "        self.dropouts=dropouts\n",
        "        self.initializer=initializer\n",
        "\n",
        "    @tf.function()    \n",
        "    def train_step_wise(self, inp, targ, enc_hidden):\n",
        "        loss = 0\n",
        "        with tf.GradientTape() as tape:\n",
        "            enc_output, enc_hidden = self.encoder(inp, enc_hidden)\n",
        "            dec_hidden = enc_hidden\n",
        "            dec_input = tf.expand_dims([self.input_token_index['\\t']] * self.BATCH_SIZE, 1)\n",
        "\n",
        "            for t in range(1, targ.shape[1]):\n",
        "                predictions, dec_hidden, _ = self.decoder(dec_input, dec_hidden, enc_output)\n",
        "                loss += self.calculate_loss(targ[:, t], predictions)\n",
        "                dec_input = tf.expand_dims(targ[:, t], 1)\n",
        "\n",
        "        batch_loss = (loss / int(targ.shape[1]))\n",
        "        variables = self.encoder.trainable_variables + self.decoder.trainable_variables + self.decoder.attention.trainable_variables\n",
        "        gradients = tape.gradient(loss, variables)\n",
        "        self.optimizer.apply_gradients(zip(gradients, variables))\n",
        "        return batch_loss\n",
        "\n",
        "    def get_data(self,path):\n",
        "        d = pd.read_csv(path,sep=\"\\t\",header=None,error_bad_lines=False)\n",
        "        d = d.dropna()\n",
        "\n",
        "        decoder_target_data = np.zeros((d.shape[0],self.max_length_y,self.decoder_tokens), dtype=\"float32\")\n",
        "\n",
        "        for i,target_text in enumerate(d[0]):\n",
        "            target_text = '\\t'+target_text+'\\n'\n",
        "            for t, char in enumerate(target_text):\n",
        "                if t > 0:\n",
        "                    decoder_target_data[i, t - 1, self.target_token_index[char]] = 1.0\n",
        "            decoder_target_data[i, t:, self.target_token_index[\"\\n\"]] = 1.0\n",
        "\n",
        "        return ([[self.input_token_index[letter] for letter in list('\\t'+word+'\\n')] for word in d[1]]),\\\n",
        "                ([[self.target_token_index[letter] for letter in list('\\t'+word+'\\n')] for word in d[0]]),decoder_target_data\n",
        "\n",
        "    def create_vocabulary(self,path):\n",
        "        d = pd.read_csv(path,sep=\"\\t\",header=None,error_bad_lines=False)\n",
        "        d = d.dropna()\n",
        "\n",
        "        x = [list('\\t'+word+'\\n') for word in np.array(d[1])]\n",
        "        y = [list('\\t'+word+'\\n') for word in np.array(d[0])]\n",
        "\n",
        "        tamil_vocabulary = set()\n",
        "        english_vocab = set()\n",
        "\n",
        "        for word in x:\n",
        "            for char in word:\n",
        "                english_vocab.add(char)\n",
        "\n",
        "        for word in y:\n",
        "            for char in word:\n",
        "                tamil_vocabulary.add(char)\n",
        "\n",
        "        tamil_list = sorted(list(tamil_vocabulary))\n",
        "        english_list = sorted(list(english_vocab))\n",
        "\n",
        "        max_length_x = (np.max([len(i) for i in x]))\n",
        "        max_length_y = (np.max([len(i) for i in y]))\n",
        "\n",
        "        return tamil_list,english_list,max_length_x,max_length_y    \n",
        "\n",
        "    def create_data(self):\n",
        "        train_path = \"/home/catlab/RNN/dakshina_dataset_v1.0/ta/lexicons/ta.translit.sampled.train.tsv\"\n",
        "        cv_path = \"/home/catlab/RNN/dakshina_dataset_v1.0/ta/lexicons/ta.translit.sampled.dev.tsv\"\n",
        "        test_path = \"/home/catlab/RNN/dakshina_dataset_v1.0/ta/lexicons/ta.translit.sampled.test.tsv\"\n",
        "\n",
        "        tamil_list,english_list,self.max_length_x,self.max_length_y = self.create_vocabulary(train_path)\n",
        "        self.encoder_tokens = len(english_list)\n",
        "        self.decoder_tokens = len(tamil_list)\n",
        "\n",
        "        # Dict for char to index\n",
        "        self.input_token_index = dict([(char, i) for i, char in enumerate(english_list)])\n",
        "        self.target_token_index = dict([(char, i) for i, char in enumerate(tamil_list)])\n",
        "\n",
        "        # Dict for index to char\n",
        "        self.inv_input_token_index = dict({(value,key) for key,value in self.input_token_index.items()})\n",
        "        self.inv_target_token_index = dict({(value,key) for key,value in self.target_token_index.items()})\n",
        "\n",
        "        encoder_train,decoder_train,self.decoder_target_train = self.get_data(train_path)\n",
        "        encoder_cv,decoder_cv,self.decoder_target_cv = self.get_data(cv_path)\n",
        "        encoder_test,decoder_test,self.decoder_target_test = self.get_data(test_path)\n",
        "\n",
        "\n",
        "        self.encoder_train = sequence.pad_sequences(encoder_train,maxlen=self.max_length_x,padding=\"post\")\n",
        "        self.decoder_train = sequence.pad_sequences(decoder_train,maxlen=self.max_length_y,padding=\"post\")\n",
        "        self.encoder_cv = sequence.pad_sequences(encoder_cv,maxlen=self.max_length_x,padding=\"post\")\n",
        "        self.decoder_cv = sequence.pad_sequences(decoder_cv,maxlen=self.max_length_y,padding=\"post\")\n",
        "        self.encoder_test = sequence.pad_sequences(encoder_test,maxlen=self.max_length_x,padding=\"post\")\n",
        "        self.decoder_test = sequence.pad_sequences(decoder_test,maxlen=self.max_length_y,padding=\"post\")\n",
        "\n",
        "        self.BUFFER_SIZE = len(self.encoder_train)        \n",
        "        self.steps_per_epoch = len(self.encoder_train)//self.BATCH_SIZE\n",
        "\n",
        "        self.dataset = tf.data.Dataset.from_tensor_slices((self.encoder_train, self.decoder_train)).shuffle(self.BUFFER_SIZE)\n",
        "        self.dataset = self.dataset.batch(self.BATCH_SIZE, drop_remainder=True)\n",
        "\n",
        "\n",
        "    def calculate_loss(self,real, pred):\n",
        "        mask = tf.math.logical_not(tf.math.equal(real, 0))\n",
        "        loss_ = self.loss_object(real, pred)\n",
        "        loss_ *= tf.cast(mask, dtype=loss_.dtype)\n",
        "\n",
        "        return tf.reduce_mean(loss_)\n",
        "\n",
        "    def run(self):\n",
        "        # Compile & run training\n",
        "        if self.opt == \"nadam\":\n",
        "            self.optimizer = Nadam()\n",
        "        elif self.opt == \"sgd\":\n",
        "            self.optimizer = SGD()\n",
        "        elif self.opt == \"adadelta\":\n",
        "            self.optimizer = Adadelta()\n",
        "        else:\n",
        "            self.optimizer = Adam()\n",
        "\n",
        "        self.loss_object = SparseCategoricalCrossentropy(from_logits=True,reduction='none')\n",
        "        \n",
        "        self.encoder = Encoder(self.cell,self.encoder_tokens, self.embedding_dim, self.latent_dim, self.BATCH_SIZE, self.initializer,self.dropouts)\n",
        "        self.decoder = Decoder(self.cell,self.decoder_tokens, self.embedding_dim, self.latent_dim, self.BATCH_SIZE, self.initializer,self.dropouts)\n",
        "\n",
        "        for epoch in range(self.epochs):\n",
        "            enc_hidden = self.encoder.init_hidden_state()\n",
        "            total_loss = 0\n",
        "            \n",
        "            for (batch, (inp, targ)) in enumerate(self.dataset.take(self.steps_per_epoch)):\n",
        "                batch_loss = self.train_step_wise(inp, targ, enc_hidden)\n",
        "                total_loss += batch_loss \n",
        "\n",
        "            print(f'Epoch {epoch+1} Loss {total_loss/self.steps_per_epoch:.4f}   ')        \n",
        "\n",
        "\n",
        "    def evaluate_model(self,sentence_vect,attention=False):\n",
        "        if attention:\n",
        "            att_plot = np.zeros((self.max_length_y,self.max_length_x))\n",
        "        inputs = tf.convert_to_tensor(sentence_vect)\n",
        "        inputs = tf.expand_dims(inputs,0)\n",
        "        result = ''\n",
        "        if self.cell == \"lstm\":\n",
        "            hidden = [tf.zeros((1, self.latent_dim)),tf.zeros((1, self.latent_dim))]\n",
        "        else:\n",
        "            hidden = [tf.zeros((1, self.latent_dim))]\n",
        "        enc_out, enc_hidden = self.encoder(inputs, hidden)\n",
        "\n",
        "        dec_hidden = enc_hidden\n",
        "        dec_input = tf.expand_dims([self.target_token_index['\\t']], 0)\n",
        "\n",
        "        for t in range(self.max_length_y):\n",
        "            predictions, dec_hidden, attention_weights = self.decoder(dec_input, dec_hidden, enc_out)\n",
        "            \n",
        "            if attention:\n",
        "                att_plot[t] = (tf.reshape(attention_weights,(-1,))).numpy()\n",
        "\n",
        "            predicted_id = tf.argmax(predictions[0]).numpy()\n",
        "\n",
        "            if self.inv_target_token_index[predicted_id] != \"\\n\":\n",
        "                result += self.inv_target_token_index[predicted_id]\n",
        "            else:\n",
        "                if attention:\n",
        "                    return result,att_plot\n",
        "                return result\n",
        "\n",
        "            dec_input = tf.expand_dims([predicted_id], 0) \n",
        "\n",
        "        if attention:\n",
        "            return result,att_plot\n",
        "        return result\n",
        "\n",
        "    def test_predictions_accuracy(self):\n",
        "        count = 0\n",
        "        for i in range(len(self.decoder_test)):\n",
        "            actual = \"\"\n",
        "            for x in self.decoder_test[i][1:]:\n",
        "                if self.inv_target_token_index[x]==\"\\n\":\n",
        "                    break\n",
        "                actual += self.inv_target_token_index[x]\n",
        "\n",
        "            pred = self.evaluate_model(self.encoder_test[i])\n",
        "            if (actual==pred):\n",
        "                count+=1\n",
        "                \n",
        "        return count/len(self.decoder_test)\n",
        "\n",
        "    def cv_predictions_accuracy(self):\n",
        "        count = 0\n",
        "        for i in range(len(self.decoder_cv)):\n",
        "            actual = \"\"\n",
        "            for x in self.decoder_cv[i][1:]:\n",
        "                if self.inv_target_token_index[x]==\"\\n\":\n",
        "                    break\n",
        "                actual += self.inv_target_token_index[x]\n",
        "\n",
        "            pred = self.evaluate_model(self.encoder_cv[i])\n",
        "            if (actual==pred):\n",
        "                count+=1\n",
        "\n",
        "        return count/len(self.decoder_cv)\n",
        "    \n",
        "  "
      ]
    },
    {
      "cell_type": "code",
      "execution_count": null,
      "id": "0f6b02cb",
      "metadata": {
        "id": "0f6b02cb"
      },
      "outputs": [],
      "source": [
        "#setting up wandb sweeps\n",
        "sweep_config={\n",
        "    'method': 'random',\n",
        "    'metric': {\n",
        "        'name': 'accuracy',\n",
        "        'goal': 'maximize'\n",
        "    },\n",
        "    'parameters':{\n",
        "        'epochs':{\n",
        "            'values':[3,5,6]\n",
        "        },\n",
        "        'embedding_size':{\n",
        "            'values':[8,12,16]\n",
        "        },\n",
        "        'cell':{\n",
        "            'values':[\"gru\",\"lstm\",\"rnn\"]\n",
        "        },\n",
        "        'dropouts':{\n",
        "            'values':[0,0.2,0.3]\n",
        "        },\n",
        "        'latent_dim':{\n",
        "            'values':[32,128,256,512]\n",
        "        },\n",
        "        'batch_size':{\n",
        "            'values':[32,64]\n",
        "        },\n",
        "        'optimizers':{\n",
        "            'values':[\"nadam\",\"adam\",\"sgd\"]\n",
        "        },\n",
        "       'initializer':{\n",
        "            'values':[\"orthogonal\",\"glorot_uniform\"]\n",
        "        }\n",
        "    }\n",
        "}"
      ]
    },
    {
      "cell_type": "code",
      "execution_count": null,
      "id": "6b8502ed",
      "metadata": {
        "id": "6b8502ed",
        "outputId": "4a974689-6104-4324-a904-6a638f987afd"
      },
      "outputs": [
        {
          "name": "stdout",
          "output_type": "stream",
          "text": [
            "\u001b[34m\u001b[1mwandb\u001b[0m: Currently logged in as: \u001b[33mas1_dl\u001b[0m (use `wandb login --relogin` to force relogin)\r\n"
          ]
        }
      ],
      "source": [
        "import wandb\n",
        "!wandb login \n",
        "#key if required\n",
        "#17cea20df689f25f619d7fbaa771206983675111"
      ]
    },
    {
      "cell_type": "code",
      "execution_count": null,
      "id": "3e63d247",
      "metadata": {
        "id": "3e63d247",
        "outputId": "559e9668-4475-4bc0-845e-b7acdbb9dc4e"
      },
      "outputs": [
        {
          "name": "stdout",
          "output_type": "stream",
          "text": [
            "Create sweep with ID: nvuzrccz\n",
            "Sweep URL: https://wandb.ai/as1_dl/AttnSweeps/sweeps/nvuzrccz\n"
          ]
        }
      ],
      "source": [
        "sweep_id = wandb.sweep(sweep_config,project=\"AttnSweeps\", entity=\"as1_dl\")"
      ]
    },
    {
      "cell_type": "code",
      "execution_count": null,
      "id": "ab0c4cc2",
      "metadata": {
        "id": "ab0c4cc2"
      },
      "outputs": [],
      "source": [
        "def train():\n",
        "    config_defaults={\n",
        "      'epochs':5,\n",
        "      'embedding_size':16,\n",
        "      'dropouts':0.3,\n",
        "      'optimizers':\"adam\",\n",
        "      'cell':\"lstm\",\n",
        "      'latent_dim':512,\n",
        "      'batch_size': 64,\n",
        "      'initializer':\"glorot_uniform\"\n",
        "       }\n",
        "    \n",
        "    wandb.init(config=config_defaults)\n",
        "    config=wandb.config\n",
        "    seqatt=Attention(config.cell,config.embedding_size,config.latent_dim,config.optimizers,config.dropouts,config.batch_size,config.epochs,config.initializer)\n",
        "    seqatt.create_data()\n",
        "    seqatt.run()\n",
        "    val_acc=seqatt.cv_predictions_accuracy()\n",
        "    wandb.log({'validation accuracy':val_acc})"
      ]
    },
    {
      "cell_type": "code",
      "execution_count": null,
      "id": "f93acef0",
      "metadata": {
        "id": "f93acef0",
        "outputId": "b619d48f-0215-4325-89c6-757f41202292",
        "colab": {
          "referenced_widgets": [
            ""
          ]
        }
      },
      "outputs": [
        {
          "name": "stderr",
          "output_type": "stream",
          "text": [
            "\u001b[34m\u001b[1mwandb\u001b[0m: Agent Starting Run: 9vveahye with config:\n",
            "\u001b[34m\u001b[1mwandb\u001b[0m: \tbatch_size: 32\n",
            "\u001b[34m\u001b[1mwandb\u001b[0m: \tcell: lstm\n",
            "\u001b[34m\u001b[1mwandb\u001b[0m: \tdropouts: 0.3\n",
            "\u001b[34m\u001b[1mwandb\u001b[0m: \tembedding_size: 12\n",
            "\u001b[34m\u001b[1mwandb\u001b[0m: \tepochs: 5\n",
            "\u001b[34m\u001b[1mwandb\u001b[0m: \tinitializer: glorot_uniform\n",
            "\u001b[34m\u001b[1mwandb\u001b[0m: \tlatent_dim: 128\n",
            "\u001b[34m\u001b[1mwandb\u001b[0m: \toptimizers: adam\n",
            "\u001b[34m\u001b[1mwandb\u001b[0m: Currently logged in as: \u001b[33mas1_dl\u001b[0m (use `wandb login --relogin` to force relogin)\n",
            "\u001b[34m\u001b[1mwandb\u001b[0m: wandb version 0.12.16 is available!  To upgrade, please run:\n",
            "\u001b[34m\u001b[1mwandb\u001b[0m:  $ pip install wandb --upgrade\n"
          ]
        },
        {
          "data": {
            "text/html": [
              "\n",
              "                    Syncing run <strong><a href=\"https://wandb.ai/as1_dl/AttnSweeps/runs/9vveahye\" target=\"_blank\">genial-sweep-1</a></strong> to <a href=\"https://wandb.ai/as1_dl/AttnSweeps\" target=\"_blank\">Weights & Biases</a> (<a href=\"https://docs.wandb.com/integrations/jupyter.html\" target=\"_blank\">docs</a>).<br/>\n",
              "Sweep page: <a href=\"https://wandb.ai/as1_dl/AttnSweeps/sweeps/nvuzrccz\" target=\"_blank\">https://wandb.ai/as1_dl/AttnSweeps/sweeps/nvuzrccz</a><br/>\n",
              "\n",
              "                "
            ],
            "text/plain": [
              "<IPython.core.display.HTML object>"
            ]
          },
          "metadata": {},
          "output_type": "display_data"
        },
        {
          "name": "stderr",
          "output_type": "stream",
          "text": [
            "/tmp/ipykernel_7712/3073565139.py:78: FutureWarning: The error_bad_lines argument has been deprecated and will be removed in a future version.\n",
            "\n",
            "\n",
            "  tamil_list,english_list,self.max_length_x,self.max_length_y = self.create_vocabulary(train_path)\n",
            "/tmp/ipykernel_7712/3073565139.py:90: FutureWarning: The error_bad_lines argument has been deprecated and will be removed in a future version.\n",
            "\n",
            "\n",
            "  encoder_train,decoder_train,self.decoder_target_train = self.get_data(train_path)\n",
            "/tmp/ipykernel_7712/3073565139.py:91: FutureWarning: The error_bad_lines argument has been deprecated and will be removed in a future version.\n",
            "\n",
            "\n",
            "  encoder_cv,decoder_cv,self.decoder_target_cv = self.get_data(cv_path)\n",
            "/tmp/ipykernel_7712/3073565139.py:92: FutureWarning: The error_bad_lines argument has been deprecated and will be removed in a future version.\n",
            "\n",
            "\n",
            "  encoder_test,decoder_test,self.decoder_target_test = self.get_data(test_path)\n",
            "2022-05-08 18:34:34.746114: I tensorflow/stream_executor/cuda/cuda_gpu_executor.cc:936] successful NUMA node read from SysFS had negative value (-1), but there must be at least one NUMA node, so returning NUMA node zero\n",
            "2022-05-08 18:34:34.756145: W tensorflow/stream_executor/platform/default/dso_loader.cc:64] Could not load dynamic library 'libcudnn.so.8'; dlerror: libcudnn.so.8: cannot open shared object file: No such file or directory; LD_LIBRARY_PATH: :/usr/local/cuda-11.2/lib64\n",
            "2022-05-08 18:34:34.756164: W tensorflow/core/common_runtime/gpu/gpu_device.cc:1850] Cannot dlopen some GPU libraries. Please make sure the missing libraries mentioned above are installed properly if you would like to use GPU. Follow the guide at https://www.tensorflow.org/install/gpu for how to download and setup the required libraries for your platform.\n",
            "Skipping registering GPU devices...\n",
            "2022-05-08 18:34:34.756779: I tensorflow/core/platform/cpu_feature_guard.cc:151] This TensorFlow binary is optimized with oneAPI Deep Neural Network Library (oneDNN) to use the following CPU instructions in performance-critical operations:  AVX2 FMA\n",
            "To enable them in other operations, rebuild TensorFlow with the appropriate compiler flags.\n"
          ]
        },
        {
          "name": "stdout",
          "output_type": "stream",
          "text": [
            "Epoch 1 Loss 0.7685   \n",
            "Epoch 2 Loss 0.4315   \n",
            "Epoch 3 Loss 0.1983   \n",
            "Epoch 4 Loss 0.1505   \n",
            "Epoch 5 Loss 0.1335   \n"
          ]
        },
        {
          "data": {
            "text/html": [
              "<br/>Waiting for W&B process to finish, PID 7775... <strong style=\"color:green\">(success).</strong>"
            ],
            "text/plain": [
              "<IPython.core.display.HTML object>"
            ]
          },
          "metadata": {},
          "output_type": "display_data"
        },
        {
          "data": {
            "application/vnd.jupyter.widget-view+json": {
              "model_id": "",
              "version_major": 2,
              "version_minor": 0
            },
            "text/plain": [
              "VBox(children=(Label(value=' 0.00MB of 0.00MB uploaded (0.00MB deduped)\\r'), FloatProgress(value=1.0, max=1.0)…"
            ]
          },
          "metadata": {},
          "output_type": "display_data"
        },
        {
          "data": {
            "text/html": [
              "<style>\n",
              "    table.wandb td:nth-child(1) { padding: 0 10px; text-align: right }\n",
              "    .wandb-row { display: flex; flex-direction: row; flex-wrap: wrap; width: 100% }\n",
              "    .wandb-col { display: flex; flex-direction: column; flex-basis: 100%; flex: 1; padding: 10px; }\n",
              "    </style>\n",
              "<div class=\"wandb-row\"><div class=\"wandb-col\">\n",
              "<h3>Run history:</h3><br/><table class=\"wandb\"><tr><td>validation accuracy</td><td>▁</td></tr></table><br/></div><div class=\"wandb-col\">\n",
              "<h3>Run summary:</h3><br/><table class=\"wandb\"><tr><td>validation accuracy</td><td>0.50491</td></tr></table>\n",
              "</div></div>\n",
              "Synced 6 W&B file(s), 0 media file(s), 0 artifact file(s) and 0 other file(s)\n",
              "<br/>Synced <strong style=\"color:#cdcd00\">genial-sweep-1</strong>: <a href=\"https://wandb.ai/as1_dl/AttnSweeps/runs/9vveahye\" target=\"_blank\">https://wandb.ai/as1_dl/AttnSweeps/runs/9vveahye</a><br/>\n",
              "Find logs at: <code>./wandb/run-20220508_183426-9vveahye/logs</code><br/>\n"
            ],
            "text/plain": [
              "<IPython.core.display.HTML object>"
            ]
          },
          "metadata": {},
          "output_type": "display_data"
        },
        {
          "name": "stderr",
          "output_type": "stream",
          "text": [
            "\u001b[34m\u001b[1mwandb\u001b[0m: Agent Starting Run: gz79hq3u with config:\n",
            "\u001b[34m\u001b[1mwandb\u001b[0m: \tbatch_size: 32\n",
            "\u001b[34m\u001b[1mwandb\u001b[0m: \tcell: rnn\n",
            "\u001b[34m\u001b[1mwandb\u001b[0m: \tdropouts: 0\n",
            "\u001b[34m\u001b[1mwandb\u001b[0m: \tembedding_size: 12\n",
            "\u001b[34m\u001b[1mwandb\u001b[0m: \tepochs: 5\n",
            "\u001b[34m\u001b[1mwandb\u001b[0m: \tinitializer: glorot_uniform\n",
            "\u001b[34m\u001b[1mwandb\u001b[0m: \tlatent_dim: 256\n",
            "\u001b[34m\u001b[1mwandb\u001b[0m: \toptimizers: sgd\n",
            "\u001b[34m\u001b[1mwandb\u001b[0m: wandb version 0.12.16 is available!  To upgrade, please run:\n",
            "\u001b[34m\u001b[1mwandb\u001b[0m:  $ pip install wandb --upgrade\n"
          ]
        },
        {
          "data": {
            "text/html": [
              "\n",
              "                    Syncing run <strong><a href=\"https://wandb.ai/as1_dl/AttnSweeps/runs/gz79hq3u\" target=\"_blank\">devoted-sweep-2</a></strong> to <a href=\"https://wandb.ai/as1_dl/AttnSweeps\" target=\"_blank\">Weights & Biases</a> (<a href=\"https://docs.wandb.com/integrations/jupyter.html\" target=\"_blank\">docs</a>).<br/>\n",
              "Sweep page: <a href=\"https://wandb.ai/as1_dl/AttnSweeps/sweeps/nvuzrccz\" target=\"_blank\">https://wandb.ai/as1_dl/AttnSweeps/sweeps/nvuzrccz</a><br/>\n",
              "\n",
              "                "
            ],
            "text/plain": [
              "<IPython.core.display.HTML object>"
            ]
          },
          "metadata": {},
          "output_type": "display_data"
        },
        {
          "name": "stdout",
          "output_type": "stream",
          "text": [
            "Epoch 1 Loss 0.9299   \n",
            "Epoch 2 Loss 0.8256   \n",
            "Epoch 3 Loss 0.7766   \n",
            "Epoch 4 Loss 0.7479   \n",
            "Epoch 5 Loss 0.7260   \n"
          ]
        },
        {
          "data": {
            "text/html": [
              "<br/>Waiting for W&B process to finish, PID 8438... <strong style=\"color:green\">(success).</strong>"
            ],
            "text/plain": [
              "<IPython.core.display.HTML object>"
            ]
          },
          "metadata": {},
          "output_type": "display_data"
        },
        {
          "data": {
            "application/vnd.jupyter.widget-view+json": {
              "model_id": "",
              "version_major": 2,
              "version_minor": 0
            },
            "text/plain": [
              "VBox(children=(Label(value=' 0.00MB of 0.00MB uploaded (0.00MB deduped)\\r'), FloatProgress(value=1.0, max=1.0)…"
            ]
          },
          "metadata": {},
          "output_type": "display_data"
        },
        {
          "data": {
            "text/html": [
              "<style>\n",
              "    table.wandb td:nth-child(1) { padding: 0 10px; text-align: right }\n",
              "    .wandb-row { display: flex; flex-direction: row; flex-wrap: wrap; width: 100% }\n",
              "    .wandb-col { display: flex; flex-direction: column; flex-basis: 100%; flex: 1; padding: 10px; }\n",
              "    </style>\n",
              "<div class=\"wandb-row\"><div class=\"wandb-col\">\n",
              "<h3>Run history:</h3><br/><table class=\"wandb\"><tr><td>validation accuracy</td><td>▁</td></tr></table><br/></div><div class=\"wandb-col\">\n",
              "<h3>Run summary:</h3><br/><table class=\"wandb\"><tr><td>validation accuracy</td><td>0.0</td></tr></table>\n",
              "</div></div>\n",
              "Synced 6 W&B file(s), 0 media file(s), 0 artifact file(s) and 0 other file(s)\n",
              "<br/>Synced <strong style=\"color:#cdcd00\">devoted-sweep-2</strong>: <a href=\"https://wandb.ai/as1_dl/AttnSweeps/runs/gz79hq3u\" target=\"_blank\">https://wandb.ai/as1_dl/AttnSweeps/runs/gz79hq3u</a><br/>\n",
              "Find logs at: <code>./wandb/run-20220508_185100-gz79hq3u/logs</code><br/>\n"
            ],
            "text/plain": [
              "<IPython.core.display.HTML object>"
            ]
          },
          "metadata": {},
          "output_type": "display_data"
        },
        {
          "name": "stderr",
          "output_type": "stream",
          "text": [
            "\u001b[34m\u001b[1mwandb\u001b[0m: Agent Starting Run: ld1ioju2 with config:\n",
            "\u001b[34m\u001b[1mwandb\u001b[0m: \tbatch_size: 64\n",
            "\u001b[34m\u001b[1mwandb\u001b[0m: \tcell: gru\n",
            "\u001b[34m\u001b[1mwandb\u001b[0m: \tdropouts: 0.2\n",
            "\u001b[34m\u001b[1mwandb\u001b[0m: \tembedding_size: 16\n",
            "\u001b[34m\u001b[1mwandb\u001b[0m: \tepochs: 5\n",
            "\u001b[34m\u001b[1mwandb\u001b[0m: \tinitializer: orthogonal\n",
            "\u001b[34m\u001b[1mwandb\u001b[0m: \tlatent_dim: 512\n",
            "\u001b[34m\u001b[1mwandb\u001b[0m: \toptimizers: sgd\n",
            "\u001b[34m\u001b[1mwandb\u001b[0m: wandb version 0.12.16 is available!  To upgrade, please run:\n",
            "\u001b[34m\u001b[1mwandb\u001b[0m:  $ pip install wandb --upgrade\n"
          ]
        },
        {
          "data": {
            "text/html": [
              "\n",
              "                    Syncing run <strong><a href=\"https://wandb.ai/as1_dl/AttnSweeps/runs/ld1ioju2\" target=\"_blank\">cool-sweep-3</a></strong> to <a href=\"https://wandb.ai/as1_dl/AttnSweeps\" target=\"_blank\">Weights & Biases</a> (<a href=\"https://docs.wandb.com/integrations/jupyter.html\" target=\"_blank\">docs</a>).<br/>\n",
              "Sweep page: <a href=\"https://wandb.ai/as1_dl/AttnSweeps/sweeps/nvuzrccz\" target=\"_blank\">https://wandb.ai/as1_dl/AttnSweeps/sweeps/nvuzrccz</a><br/>\n",
              "\n",
              "                "
            ],
            "text/plain": [
              "<IPython.core.display.HTML object>"
            ]
          },
          "metadata": {},
          "output_type": "display_data"
        },
        {
          "name": "stderr",
          "output_type": "stream",
          "text": [
            "\u001b[34m\u001b[1mwandb\u001b[0m: Ctrl + C detected. Stopping sweep.\n"
          ]
        }
      ],
      "source": [
        "wandb.agent(sweep_id,train)"
      ]
    },
    {
      "cell_type": "code",
      "execution_count": null,
      "id": "69151876",
      "metadata": {
        "id": "69151876",
        "outputId": "22dae687-9f15-4ead-a87c-a472a7749a32",
        "colab": {
          "referenced_widgets": [
            ""
          ]
        }
      },
      "outputs": [
        {
          "name": "stderr",
          "output_type": "stream",
          "text": [
            "/tmp/ipykernel_7712/3073565139.py:78: FutureWarning: The error_bad_lines argument has been deprecated and will be removed in a future version.\n",
            "\n",
            "\n",
            "  tamil_list,english_list,self.max_length_x,self.max_length_y = self.create_vocabulary(train_path)\n",
            "/tmp/ipykernel_7712/3073565139.py:90: FutureWarning: The error_bad_lines argument has been deprecated and will be removed in a future version.\n",
            "\n",
            "\n",
            "  encoder_train,decoder_train,self.decoder_target_train = self.get_data(train_path)\n",
            "/tmp/ipykernel_7712/3073565139.py:91: FutureWarning: The error_bad_lines argument has been deprecated and will be removed in a future version.\n",
            "\n",
            "\n",
            "  encoder_cv,decoder_cv,self.decoder_target_cv = self.get_data(cv_path)\n",
            "/tmp/ipykernel_7712/3073565139.py:92: FutureWarning: The error_bad_lines argument has been deprecated and will be removed in a future version.\n",
            "\n",
            "\n",
            "  encoder_test,decoder_test,self.decoder_target_test = self.get_data(test_path)\n"
          ]
        },
        {
          "data": {
            "text/html": [
              "<br/>Waiting for W&B process to finish, PID 9311... <strong style=\"color:red\">(failed 1).</strong> Press ctrl-c to abort syncing."
            ],
            "text/plain": [
              "<IPython.core.display.HTML object>"
            ]
          },
          "metadata": {},
          "output_type": "display_data"
        },
        {
          "data": {
            "application/vnd.jupyter.widget-view+json": {
              "model_id": "",
              "version_major": 2,
              "version_minor": 0
            },
            "text/plain": [
              "VBox(children=(Label(value=' 0.00MB of 0.00MB uploaded (0.00MB deduped)\\r'), FloatProgress(value=1.0, max=1.0)…"
            ]
          },
          "metadata": {},
          "output_type": "display_data"
        },
        {
          "data": {
            "text/html": [
              "<style>\n",
              "    table.wandb td:nth-child(1) { padding: 0 10px; text-align: right }\n",
              "    .wandb-row { display: flex; flex-direction: row; flex-wrap: wrap; width: 100% }\n",
              "    .wandb-col { display: flex; flex-direction: column; flex-basis: 100%; flex: 1; padding: 10px; }\n",
              "    </style>\n",
              "<div class=\"wandb-row\"><div class=\"wandb-col\">\n",
              "</div><div class=\"wandb-col\">\n",
              "</div></div>\n",
              "Synced 6 W&B file(s), 0 media file(s), 0 artifact file(s) and 0 other file(s)\n",
              "<br/>Synced <strong style=\"color:#cdcd00\">cool-sweep-3</strong>: <a href=\"https://wandb.ai/as1_dl/AttnSweeps/runs/ld1ioju2\" target=\"_blank\">https://wandb.ai/as1_dl/AttnSweeps/runs/ld1ioju2</a><br/>\n",
              "Find logs at: <code>./wandb/run-20220508_190951-ld1ioju2/logs</code><br/>\n"
            ],
            "text/plain": [
              "<IPython.core.display.HTML object>"
            ]
          },
          "metadata": {},
          "output_type": "display_data"
        },
        {
          "name": "stdout",
          "output_type": "stream",
          "text": [
            "Epoch 1 Loss 0.5357   \n",
            "Epoch 2 Loss 0.1603   \n",
            "Epoch 3 Loss 0.1213   \n",
            "Epoch 4 Loss 0.1158   \n",
            "Epoch 5 Loss 0.1021   \n",
            "Epoch 6 Loss 0.0927   \n"
          ]
        }
      ],
      "source": [
        "#Best model specs\n",
        "\n",
        "# val accuracy: 56 \n",
        "# batch_size: 32\n",
        "# wandb: \tcell: gru\n",
        "# wandb: \tdropouts: 0.2\n",
        "# wandb: \tembedding_size: 16\n",
        "# wandb: \tepochs: 6\n",
        "# wandb: \tinitializer: glorot_uniform\n",
        "# wandb: \tlatent_dim: 256\n",
        "# wandb: \toptimizers: nadam\n",
        "\n",
        "\n",
        "\n",
        "seqatt = Attention(\"gru\",16,256,\"nadam\",0.2,32,6,\"glorot_uniform\")\n",
        "seqatt.create_data()\n",
        "seqatt.run()"
      ]
    },
    {
      "cell_type": "code",
      "execution_count": null,
      "id": "9aab9ca8",
      "metadata": {
        "id": "9aab9ca8",
        "outputId": "faecff78-220d-4cd3-dbbf-0b2c2cf93e6f"
      },
      "outputs": [
        {
          "name": "stdout",
          "output_type": "stream",
          "text": [
            "Cross Validation Word Accuracy is 52.277720814413364\n"
          ]
        }
      ],
      "source": [
        "cv_acc = seqatt.cv_predictions_accuracy()\n",
        "print(\"Cross Validation Word Accuracy is\",cv_acc*100)"
      ]
    },
    {
      "cell_type": "code",
      "execution_count": null,
      "id": "a8deecb1",
      "metadata": {
        "id": "a8deecb1",
        "outputId": "b3c762bf-7fbb-4fe0-beeb-80d0fee32910"
      },
      "outputs": [
        {
          "name": "stdout",
          "output_type": "stream",
          "text": [
            "Test Word Accuracy is 50.189393939393945\n"
          ]
        }
      ],
      "source": [
        "test_acc = seqatt.test_predictions_accuracy()\n",
        "\n",
        "print(\"Test Word Accuracy is\",test_acc*100)"
      ]
    },
    {
      "cell_type": "code",
      "execution_count": null,
      "id": "3c2563c1",
      "metadata": {
        "scrolled": false,
        "id": "3c2563c1",
        "outputId": "e0a91960-521d-4dd8-ce37-c4cfb75be56b"
      },
      "outputs": [
        {
          "name": "stdout",
          "output_type": "stream",
          "text": [
            "['faarm', 'farm', 'form', 'hpaarm', 'face']\n",
            "['ஃபார்ம்', 'ஃபார்ம்', 'ஃபார்ம்', 'ஃபார்ம்', 'ஃபேஸ்']\n",
            "['பார்ம்', 'பர்ம்', 'போர்ம்', 'அப்பார்', 'பேசி']\n"
          ]
        }
      ],
      "source": [
        "pred_l,actual_l,input_l = [],[],[]\n",
        "\n",
        "for i in range(len(seqatt.decoder_test)):\n",
        "  input = \"\"\n",
        "  actual = \"\"\n",
        "  for x in seqatt.encoder_test[i][1:]:\n",
        "    if seqatt.inv_input_token_index[x]==\"\\n\":\n",
        "      break\n",
        "    input += seqatt.inv_input_token_index[x]\n",
        "\n",
        "  for x in seqatt.decoder_test[i][1:]:\n",
        "    if seqatt.inv_target_token_index[x]==\"\\n\":\n",
        "      break\n",
        "    actual += seqatt.inv_target_token_index[x]\n",
        "\n",
        "  pred = seqatt.evaluate_model(seqatt.encoder_test[i])\n",
        "\n",
        "  input_l.append(input)\n",
        "  actual_l.append(actual)\n",
        "  pred_l.append(pred)  \n",
        "print(input_l[:5])\n",
        "print(actual_l[:5])\n",
        "print(pred_l[:5])\n",
        "\n",
        "input_l = pd.Series(input_l)\n",
        "actual_l = pd.Series(actual_l)\n",
        "pred_l = pd.Series(pred_l)\n",
        "\n",
        "df = pd.concat((input_l,actual_l,pred_l),axis=1)\n",
        "df.columns = [\"Actual_Input\",\"Actual_Output\",\"Predicted_Output\"]\n",
        "df.to_csv(\"predictions_attention.csv\",index=False)\n"
      ]
    },
    {
      "cell_type": "code",
      "execution_count": null,
      "id": "92532e8f",
      "metadata": {
        "id": "92532e8f",
        "outputId": "762f31b1-87d9-4b95-c954-9163ec06d264"
      },
      "outputs": [
        {
          "name": "stdout",
          "output_type": "stream",
          "text": [
            "\u001b[34m\u001b[1mwandb\u001b[0m: Currently logged in as: \u001b[33mas1_dl\u001b[0m (use `wandb login --relogin` to force relogin)\r\n"
          ]
        },
        {
          "name": "stderr",
          "output_type": "stream",
          "text": [
            "\u001b[34m\u001b[1mwandb\u001b[0m: \u001b[33mWARNING\u001b[0m Ignored wandb.init() arg project when running a sweep.\n",
            "\u001b[34m\u001b[1mwandb\u001b[0m: \u001b[33mWARNING\u001b[0m Ignored wandb.init() arg entity when running a sweep.\n",
            "\u001b[34m\u001b[1mwandb\u001b[0m: wandb version 0.12.16 is available!  To upgrade, please run:\n",
            "\u001b[34m\u001b[1mwandb\u001b[0m:  $ pip install wandb --upgrade\n"
          ]
        },
        {
          "data": {
            "text/html": [
              "\n",
              "                    Syncing run <strong><a href=\"https://wandb.ai/as1_dl/AttnSweeps/runs/ld1ioju2\" target=\"_blank\">cool-sweep-3</a></strong> to <a href=\"https://wandb.ai/as1_dl/AttnSweeps\" target=\"_blank\">Weights & Biases</a> (<a href=\"https://docs.wandb.com/integrations/jupyter.html\" target=\"_blank\">docs</a>).<br/>\n",
              "Sweep page: <a href=\"https://wandb.ai/as1_dl/AttnSweeps/sweeps/nvuzrccz\" target=\"_blank\">https://wandb.ai/as1_dl/AttnSweeps/sweeps/nvuzrccz</a><br/>\n",
              "\n",
              "                "
            ],
            "text/plain": [
              "<IPython.core.display.HTML object>"
            ]
          },
          "metadata": {},
          "output_type": "display_data"
        },
        {
          "data": {
            "text/html": [
              "<button onClick=\"this.nextSibling.style.display='block';this.style.display='none';\">Display W&B run</button><iframe src=\"https://wandb.ai/as1_dl/AttnSweeps/runs/ld1ioju2?jupyter=true\" style=\"border:none;width:100%;height:420px;display:none;\"></iframe>"
            ],
            "text/plain": [
              "<wandb.sdk.wandb_run.Run at 0x7f3dc31679a0>"
            ]
          },
          "execution_count": 16,
          "metadata": {},
          "output_type": "execute_result"
        }
      ],
      "source": [
        "#Attention plots\n",
        "import wandb\n",
        "!wandb login \n",
        "from wandb.keras import WandbCallback\n",
        "wandb.init(project=\"AttnSweeps\", entity=\"as1_dl\")\n"
      ]
    },
    {
      "cell_type": "code",
      "execution_count": null,
      "id": "51dcb459",
      "metadata": {
        "id": "51dcb459",
        "outputId": "aecae821-ce1b-41f6-961c-8b22bd5c32fe"
      },
      "outputs": [
        {
          "name": "stderr",
          "output_type": "stream",
          "text": [
            "/home/catlab/anaconda3/lib/python3.9/site-packages/matplotlib/backends/backend_agg.py:240: RuntimeWarning: Glyph 2965 missing from current font.\n",
            "  font.set_text(s, 0.0, flags=flags)\n",
            "/home/catlab/anaconda3/lib/python3.9/site-packages/matplotlib/backends/backend_agg.py:240: RuntimeWarning: Glyph 3009 missing from current font.\n",
            "  font.set_text(s, 0.0, flags=flags)\n",
            "/home/catlab/anaconda3/lib/python3.9/site-packages/matplotlib/backends/backend_agg.py:240: RuntimeWarning: Glyph 2993 missing from current font.\n",
            "  font.set_text(s, 0.0, flags=flags)\n",
            "/home/catlab/anaconda3/lib/python3.9/site-packages/matplotlib/backends/backend_agg.py:203: RuntimeWarning: Glyph 2965 missing from current font.\n",
            "  font.set_text(s, 0, flags=flags)\n",
            "/home/catlab/anaconda3/lib/python3.9/site-packages/matplotlib/backends/backend_agg.py:203: RuntimeWarning: Glyph 3009 missing from current font.\n",
            "  font.set_text(s, 0, flags=flags)\n",
            "/home/catlab/anaconda3/lib/python3.9/site-packages/matplotlib/backends/backend_agg.py:203: RuntimeWarning: Glyph 2993 missing from current font.\n",
            "  font.set_text(s, 0, flags=flags)\n"
          ]
        },
        {
          "data": {
            "image/png": "[encoded data removed]",
            "text/plain": [
              "<Figure size 360x360 with 1 Axes>"
            ]
          },
          "metadata": {
            "needs_background": "light"
          },
          "output_type": "display_data"
        },
        {
          "name": "stderr",
          "output_type": "stream",
          "text": [
            "/home/catlab/anaconda3/lib/python3.9/site-packages/matplotlib/backends/backend_agg.py:240: RuntimeWarning: Glyph 2986 missing from current font.\n",
            "  font.set_text(s, 0.0, flags=flags)\n",
            "/home/catlab/anaconda3/lib/python3.9/site-packages/matplotlib/backends/backend_agg.py:240: RuntimeWarning: Glyph 2997 missing from current font.\n",
            "  font.set_text(s, 0.0, flags=flags)\n",
            "/home/catlab/anaconda3/lib/python3.9/site-packages/matplotlib/backends/backend_agg.py:240: RuntimeWarning: Glyph 3007 missing from current font.\n",
            "  font.set_text(s, 0.0, flags=flags)\n",
            "/home/catlab/anaconda3/lib/python3.9/site-packages/matplotlib/backends/backend_agg.py:240: RuntimeWarning: Glyph 2991 missing from current font.\n",
            "  font.set_text(s, 0.0, flags=flags)\n",
            "/home/catlab/anaconda3/lib/python3.9/site-packages/matplotlib/backends/backend_agg.py:240: RuntimeWarning: Glyph 3008 missing from current font.\n",
            "  font.set_text(s, 0.0, flags=flags)\n",
            "/home/catlab/anaconda3/lib/python3.9/site-packages/matplotlib/backends/backend_agg.py:240: RuntimeWarning: Glyph 2992 missing from current font.\n",
            "  font.set_text(s, 0.0, flags=flags)\n",
            "/home/catlab/anaconda3/lib/python3.9/site-packages/matplotlib/backends/backend_agg.py:240: RuntimeWarning: Glyph 3021 missing from current font.\n",
            "  font.set_text(s, 0.0, flags=flags)\n",
            "/home/catlab/anaconda3/lib/python3.9/site-packages/matplotlib/backends/backend_agg.py:203: RuntimeWarning: Glyph 2986 missing from current font.\n",
            "  font.set_text(s, 0, flags=flags)\n",
            "/home/catlab/anaconda3/lib/python3.9/site-packages/matplotlib/backends/backend_agg.py:203: RuntimeWarning: Glyph 2997 missing from current font.\n",
            "  font.set_text(s, 0, flags=flags)\n",
            "/home/catlab/anaconda3/lib/python3.9/site-packages/matplotlib/backends/backend_agg.py:203: RuntimeWarning: Glyph 3007 missing from current font.\n",
            "  font.set_text(s, 0, flags=flags)\n",
            "/home/catlab/anaconda3/lib/python3.9/site-packages/matplotlib/backends/backend_agg.py:203: RuntimeWarning: Glyph 2991 missing from current font.\n",
            "  font.set_text(s, 0, flags=flags)\n",
            "/home/catlab/anaconda3/lib/python3.9/site-packages/matplotlib/backends/backend_agg.py:203: RuntimeWarning: Glyph 3008 missing from current font.\n",
            "  font.set_text(s, 0, flags=flags)\n",
            "/home/catlab/anaconda3/lib/python3.9/site-packages/matplotlib/backends/backend_agg.py:203: RuntimeWarning: Glyph 2992 missing from current font.\n",
            "  font.set_text(s, 0, flags=flags)\n",
            "/home/catlab/anaconda3/lib/python3.9/site-packages/matplotlib/backends/backend_agg.py:203: RuntimeWarning: Glyph 3021 missing from current font.\n",
            "  font.set_text(s, 0, flags=flags)\n"
          ]
        },
        {
          "data": {
            "image/png": "[encoded data removed]",
            "text/plain": [
              "<Figure size 360x360 with 1 Axes>"
            ]
          },
          "metadata": {
            "needs_background": "light"
          },
          "output_type": "display_data"
        },
        {
          "name": "stderr",
          "output_type": "stream",
          "text": [
            "/home/catlab/anaconda3/lib/python3.9/site-packages/matplotlib/backends/backend_agg.py:240: RuntimeWarning: Glyph 2980 missing from current font.\n",
            "  font.set_text(s, 0.0, flags=flags)\n",
            "/home/catlab/anaconda3/lib/python3.9/site-packages/matplotlib/backends/backend_agg.py:240: RuntimeWarning: Glyph 2975 missing from current font.\n",
            "  font.set_text(s, 0.0, flags=flags)\n",
            "/home/catlab/anaconda3/lib/python3.9/site-packages/matplotlib/backends/backend_agg.py:240: RuntimeWarning: Glyph 2985 missing from current font.\n",
            "  font.set_text(s, 0.0, flags=flags)\n",
            "/home/catlab/anaconda3/lib/python3.9/site-packages/matplotlib/backends/backend_agg.py:240: RuntimeWarning: Glyph 2990 missing from current font.\n",
            "  font.set_text(s, 0.0, flags=flags)\n",
            "/home/catlab/anaconda3/lib/python3.9/site-packages/matplotlib/backends/backend_agg.py:203: RuntimeWarning: Glyph 2980 missing from current font.\n",
            "  font.set_text(s, 0, flags=flags)\n",
            "/home/catlab/anaconda3/lib/python3.9/site-packages/matplotlib/backends/backend_agg.py:203: RuntimeWarning: Glyph 2975 missing from current font.\n",
            "  font.set_text(s, 0, flags=flags)\n",
            "/home/catlab/anaconda3/lib/python3.9/site-packages/matplotlib/backends/backend_agg.py:203: RuntimeWarning: Glyph 2985 missing from current font.\n",
            "  font.set_text(s, 0, flags=flags)\n",
            "/home/catlab/anaconda3/lib/python3.9/site-packages/matplotlib/backends/backend_agg.py:203: RuntimeWarning: Glyph 2990 missing from current font.\n",
            "  font.set_text(s, 0, flags=flags)\n"
          ]
        },
        {
          "data": {
            "image/png": "[encoded data removed]",
            "text/plain": [
              "<Figure size 360x360 with 1 Axes>"
            ]
          },
          "metadata": {
            "needs_background": "light"
          },
          "output_type": "display_data"
        },
        {
          "name": "stderr",
          "output_type": "stream",
          "text": [
            "/home/catlab/anaconda3/lib/python3.9/site-packages/matplotlib/backends/backend_agg.py:240: RuntimeWarning: Glyph 3006 missing from current font.\n",
            "  font.set_text(s, 0.0, flags=flags)\n",
            "/home/catlab/anaconda3/lib/python3.9/site-packages/matplotlib/backends/backend_agg.py:203: RuntimeWarning: Glyph 3006 missing from current font.\n",
            "  font.set_text(s, 0, flags=flags)\n"
          ]
        },
        {
          "data": {
            "image/png": "[encoded data removed]",
            "text/plain": [
              "<Figure size 360x360 with 1 Axes>"
            ]
          },
          "metadata": {
            "needs_background": "light"
          },
          "output_type": "display_data"
        },
        {
          "data": {
            "image/png": "[encoded data removed]",
            "text/plain": [
              "<Figure size 360x360 with 1 Axes>"
            ]
          },
          "metadata": {
            "needs_background": "light"
          },
          "output_type": "display_data"
        },
        {
          "name": "stderr",
          "output_type": "stream",
          "text": [
            "/home/catlab/anaconda3/lib/python3.9/site-packages/matplotlib/backends/backend_agg.py:240: RuntimeWarning: Glyph 3019 missing from current font.\n",
            "  font.set_text(s, 0.0, flags=flags)\n",
            "/home/catlab/anaconda3/lib/python3.9/site-packages/matplotlib/backends/backend_agg.py:240: RuntimeWarning: Glyph 2994 missing from current font.\n",
            "  font.set_text(s, 0.0, flags=flags)\n",
            "/home/catlab/anaconda3/lib/python3.9/site-packages/matplotlib/backends/backend_agg.py:203: RuntimeWarning: Glyph 3019 missing from current font.\n",
            "  font.set_text(s, 0, flags=flags)\n",
            "/home/catlab/anaconda3/lib/python3.9/site-packages/matplotlib/backends/backend_agg.py:203: RuntimeWarning: Glyph 2994 missing from current font.\n",
            "  font.set_text(s, 0, flags=flags)\n"
          ]
        },
        {
          "data": {
            "image/png": "[encoded data removed]",
            "text/plain": [
              "<Figure size 360x360 with 1 Axes>"
            ]
          },
          "metadata": {
            "needs_background": "light"
          },
          "output_type": "display_data"
        },
        {
          "name": "stderr",
          "output_type": "stream",
          "text": [
            "/home/catlab/anaconda3/lib/python3.9/site-packages/matplotlib/backends/backend_agg.py:240: RuntimeWarning: Glyph 2984 missing from current font.\n",
            "  font.set_text(s, 0.0, flags=flags)\n",
            "/home/catlab/anaconda3/lib/python3.9/site-packages/matplotlib/backends/backend_agg.py:203: RuntimeWarning: Glyph 2984 missing from current font.\n",
            "  font.set_text(s, 0, flags=flags)\n"
          ]
        },
        {
          "data": {
            "image/png": "[encoded data removed]",
            "text/plain": [
              "<Figure size 360x360 with 1 Axes>"
            ]
          },
          "metadata": {
            "needs_background": "light"
          },
          "output_type": "display_data"
        },
        {
          "name": "stderr",
          "output_type": "stream",
          "text": [
            "/home/catlab/anaconda3/lib/python3.9/site-packages/matplotlib/backends/backend_agg.py:240: RuntimeWarning: Glyph 2949 missing from current font.\n",
            "  font.set_text(s, 0.0, flags=flags)\n",
            "/home/catlab/anaconda3/lib/python3.9/site-packages/matplotlib/backends/backend_agg.py:240: RuntimeWarning: Glyph 3001 missing from current font.\n",
            "  font.set_text(s, 0.0, flags=flags)\n",
            "/home/catlab/anaconda3/lib/python3.9/site-packages/matplotlib/backends/backend_agg.py:203: RuntimeWarning: Glyph 2949 missing from current font.\n",
            "  font.set_text(s, 0, flags=flags)\n",
            "/home/catlab/anaconda3/lib/python3.9/site-packages/matplotlib/backends/backend_agg.py:203: RuntimeWarning: Glyph 3001 missing from current font.\n",
            "  font.set_text(s, 0, flags=flags)\n"
          ]
        },
        {
          "data": {
            "image/png": "[encoded data removed]",
            "text/plain": [
              "<Figure size 360x360 with 1 Axes>"
            ]
          },
          "metadata": {
            "needs_background": "light"
          },
          "output_type": "display_data"
        },
        {
          "name": "stderr",
          "output_type": "stream",
          "text": [
            "/home/catlab/anaconda3/lib/python3.9/site-packages/matplotlib/backends/backend_agg.py:240: RuntimeWarning: Glyph 3014 missing from current font.\n",
            "  font.set_text(s, 0.0, flags=flags)\n",
            "/home/catlab/anaconda3/lib/python3.9/site-packages/matplotlib/backends/backend_agg.py:240: RuntimeWarning: Glyph 2979 missing from current font.\n",
            "  font.set_text(s, 0.0, flags=flags)\n",
            "/home/catlab/anaconda3/lib/python3.9/site-packages/matplotlib/backends/backend_agg.py:203: RuntimeWarning: Glyph 3014 missing from current font.\n",
            "  font.set_text(s, 0, flags=flags)\n",
            "/home/catlab/anaconda3/lib/python3.9/site-packages/matplotlib/backends/backend_agg.py:203: RuntimeWarning: Glyph 2979 missing from current font.\n",
            "  font.set_text(s, 0, flags=flags)\n"
          ]
        },
        {
          "data": {
            "image/png": "[encoded data removed]",
            "text/plain": [
              "<Figure size 360x360 with 1 Axes>"
            ]
          },
          "metadata": {
            "needs_background": "light"
          },
          "output_type": "display_data"
        }
      ],
      "source": [
        "def  transliterate_char(sent,attention=False,print_out=True,print_plot=False):\n",
        "  sent = \"\\t\"+sent+\"\\n\"\n",
        "  sent_vec = [seqatt.input_token_index[i] for i in sent]\n",
        "  sent_vec = sequence.pad_sequences([sent_vec],maxlen=seqatt.max_length_x,padding=\"post\")\n",
        "\n",
        "  if attention:\n",
        "      pred,attention = seqatt.evaluate_model(sent_vec[0],True)\n",
        "      if print_out:\n",
        "        print(\"Input:\",sent)\n",
        "        print(\"Output:\",pred)\n",
        "      \n",
        "      if print_plot:\n",
        "        plot_attention(attention[:len(pred),:len(sent)],sent,pred)\n",
        "\n",
        "      return attention[:len(pred),:len(sent)],pred\n",
        "      \n",
        "  else:\n",
        "      pred = seqatt.evaluate_model(sent_vec[0],False)\n",
        "      print(\"Input:\",sent)\n",
        "      print(\"Output:\",pred)\n",
        "        \n",
        "        \n",
        "import seaborn as sb\n",
        "import matplotlib as mpl\n",
        "import matplotlib.pyplot as plt\n",
        "from matplotlib.font_manager import FontProperties as fontp\n",
        "\n",
        "font_new =  fontp(fname='tamil.ttf')\n",
        "font_dict = {'fontsize':10}\n",
        "\n",
        "def plot_attention(attention,actual,pred):\n",
        "    fig = plt.figure(figsize=(5,5))\n",
        "    ax = fig.add_subplot(1, 1, 1)\n",
        "    img = sb.heatmap(attention,cbar=False)\n",
        "    ax.set_xticklabels(['start']+list(actual[1:-1])+['end'])\n",
        "    ax.set_yticklabels(list(pred),fontdict=font_dict,fontproperties=font_new)\n",
        "    fig.savefig(\"ex.png\")\n",
        "    temp = plt.imread(\"ex.png\")\n",
        "    plot.append(temp)\n",
        "    plt.show()\n",
        "import random\n",
        "\n",
        "idxs = [i for i in range(0,5747)]\n",
        "random.shuffle(idxs)\n",
        "idxs = idxs[:9]\n",
        "plot = []\n",
        "for i in idxs:\n",
        "  input = \"\"\n",
        "  for x in seqatt.encoder_test[i][1:]:\n",
        "    if seqatt.inv_input_token_index[x]==\"\\n\":\n",
        "      break\n",
        "    input += seqatt.inv_input_token_index[x]\n",
        "\n",
        "  att,pred =  transliterate_char(input,attention=True,print_out=False,print_plot=True)\n",
        "\n",
        "\n",
        "wandb.log({\"Attention HeatMaps\": [wandb.Image(img) for img in plot]})\n"
      ]
    },
    {
      "cell_type": "code",
      "execution_count": null,
      "id": "680f15bf",
      "metadata": {
        "id": "680f15bf"
      },
      "outputs": [],
      "source": [
        "#Attention Visualization"
      ]
    },
    {
      "cell_type": "code",
      "execution_count": null,
      "id": "25acd0f4",
      "metadata": {
        "id": "25acd0f4"
      },
      "outputs": [],
      "source": [
        "from IPython.display import HTML as html_print\n",
        "from IPython.display import display"
      ]
    },
    {
      "cell_type": "code",
      "execution_count": null,
      "id": "52f84fc4",
      "metadata": {
        "id": "52f84fc4"
      },
      "outputs": [],
      "source": [
        "def cstr(s,flag=False, color='black'):\n",
        "  if flag: \n",
        "    return \"<text style=color:#000;background-color:{};font-size:31px>{} </text>\".format(color, s)\n",
        "    \n",
        "  return \"<text style=color:#000;background-color:{};font-size:30px>{} </text>\".format(color, s)\n",
        "\t\n",
        "# print html\n",
        "def print_color(t):\n",
        "\tdisplay(html_print(''.join([cstr(ti, color=ci) if ci != '#f42e2e' else cstr(ti,True,color=ci) for ti,ci in t])))\n",
        "\n",
        "# get appropriate color for value\n",
        "def get_clr(value):\n",
        "\tcolors = ['#85c2e1', '#89c4e2', '#95cae5', '#99cce6', '#a1d0e8',\n",
        "\t\t'#b2d9ec', '#baddee', '#c2e1f0', '#eff7fb', '#f9e8e8',\n",
        "\t\t'#f9e8e8', '#f9d4d4', '#f9bdbd', '#f8a8a8', '#f68f8f',\n",
        "\t\t'#f47676', '#f45f5f', '#f34343', '#f33b3b', '#f42e2e']\n",
        "\tvalue = int((value * 100) / 5)\n",
        "\treturn colors[value]"
      ]
    },
    {
      "cell_type": "code",
      "execution_count": null,
      "id": "96f5d02d",
      "metadata": {
        "id": "96f5d02d"
      },
      "outputs": [],
      "source": [
        "def visualize_connections(input, attention_matrix, target_char_index):\n",
        "  text_colours = []\n",
        "\n",
        "  for i in range(len(input)+2):\n",
        "    if i == 0:\n",
        "      text = (\"/start/\",get_clr(attention_matrix[target_char_index][i]))\n",
        "    elif i == len(input)+1:\n",
        "      text = (\"/end/\",get_clr(attention_matrix[target_char_index][i]))\n",
        "    else:\n",
        "      text = (input[i-1], get_clr(attention_matrix[target_char_index][i]))\n",
        "    \n",
        "    text_colours.append(text)\n",
        "  print_color(text_colours)\n",
        "\n",
        "def visualize_output(input,idx):\n",
        "  text_colours = []\n",
        "  for i in range(len(input)):\n",
        "    \n",
        "    if i==idx:\n",
        "      text = (input[i],'#f42e2e')\n",
        "    else:\n",
        "      text = (input[i],'#85c2e1')\n",
        "    text_colours.append(text)\n",
        "  print_color(text_colours)"
      ]
    },
    {
      "cell_type": "code",
      "execution_count": null,
      "id": "2bf0c2dc",
      "metadata": {
        "id": "2bf0c2dc"
      },
      "outputs": [],
      "source": [
        "from ipywidgets import interact, interactive, fixed, interact_manual\n",
        "import ipywidgets as widgets"
      ]
    },
    {
      "cell_type": "code",
      "execution_count": null,
      "id": "93c82d23",
      "metadata": {
        "id": "93c82d23"
      },
      "outputs": [],
      "source": [
        "    def  transliterate_attn(sent,attention=False,print_out=True,print_plot=False):\n",
        "      sent = \"\\t\"+sent+\"\\n\"\n",
        "      sent_vec = [seqatt.input_token_index[i] for i in sent]\n",
        "      sent_vec = sequence.pad_sequences([sent_vec],maxlen=seqatt.max_length_x,padding=\"post\")\n",
        "\n",
        "      if attention:\n",
        "          pred,attention = seqatt.evaluate_model(sent_vec[0],True)\n",
        "          if print_out:\n",
        "            print(\"Input:\",sent)\n",
        "            print(\"Output:\",pred)\n",
        "\n",
        "          if print_plot:\n",
        "            attention_plot(attention[:len(pred),:len(sent)],sent,pred)\n",
        "\n",
        "          return attention[:len(pred),:len(sent)],pred\n",
        "\n",
        "      else:\n",
        "          pred = seqatt.evaluate_model(sent_vec[0],False)\n",
        "          print(\"Input:\",sent)\n",
        "          print(\"Output:\",pred) "
      ]
    },
    {
      "cell_type": "code",
      "execution_count": null,
      "id": "88b605a7",
      "metadata": {
        "id": "88b605a7",
        "outputId": "cd0bde3c-8af5-454f-ce6b-f74d4beb50c5",
        "colab": {
          "referenced_widgets": [
            "cd6761af723a48b29960f8a780ea6235"
          ]
        }
      },
      "outputs": [
        {
          "data": {
            "application/vnd.jupyter.widget-view+json": {
              "model_id": "cd6761af723a48b29960f8a780ea6235",
              "version_major": 2,
              "version_minor": 0
            },
            "text/plain": [
              "interactive(children=(IntSlider(value=2, description='idx', max=5), Output()), _dom_classes=('widget-interact'…"
            ]
          },
          "metadata": {},
          "output_type": "display_data"
        }
      ],
      "source": [
        "#word to visualisation for connectivity\n",
        "input_word = 'ennachu' #@param {type:\"string\"}\n",
        "attention_matrix,pred = transliterate_attn(input_word,attention=True,print_out=False)\n",
        "\n",
        "def color_code(idx):\n",
        "    print()\n",
        "    visualize_connections(input_word,attention_matrix,idx)\n",
        "    print()\n",
        "    print()\n",
        "    print(pred)\n",
        "    visualize_output(pred,idx)\n",
        "\n",
        "  \n",
        "interact(color_code, idx=(0,len(pred)-1));"
      ]
    },
    {
      "cell_type": "code",
      "execution_count": null,
      "id": "21583050",
      "metadata": {
        "id": "21583050"
      },
      "outputs": [],
      "source": [
        ""
      ]
    }
  ],
  "metadata": {
    "kernelspec": {
      "display_name": "Python 3 (ipykernel)",
      "language": "python",
      "name": "python3"
    },
    "language_info": {
      "codemirror_mode": {
        "name": "ipython",
        "version": 3
      },
      "file_extension": ".py",
      "mimetype": "text/x-python",
      "name": "python",
      "nbconvert_exporter": "python",
      "pygments_lexer": "ipython3",
      "version": "3.9.7"
    },
    "colab": {
      "name": "RnnWithAttn.ipynb",
      "provenance": []
    }
  },
  "nbformat": 4,
  "nbformat_minor": 5
}