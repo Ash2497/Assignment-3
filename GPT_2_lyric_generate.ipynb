{
  "cells": [
    {
      "cell_type": "markdown",
      "metadata": {
        "id": "oxIugSzWf_QI"
      },
      "source": [
        "##Install and import packages"
      ]
    },
    {
      "cell_type": "code",
      "execution_count": null,
      "metadata": {
        "id": "MJ67LhapR00T"
      },
      "outputs": [],
      "source": [
        "!pip install transformers"
      ]
    },
    {
      "cell_type": "code",
      "execution_count": null,
      "metadata": {
        "id": "nLjBIRg_Sool"
      },
      "outputs": [],
      "source": [
        "pip install git+https://github.com/huggingface/transformers"
      ]
    },
    {
      "cell_type": "code",
      "execution_count": null,
      "metadata": {
        "id": "13pKGP6LSrFH"
      },
      "outputs": [],
      "source": [
        "!pip install tensorboard"
      ]
    },
    {
      "cell_type": "code",
      "execution_count": null,
      "metadata": {
        "id": "gzOWJ_61StQp"
      },
      "outputs": [],
      "source": [
        "import os\n",
        "\n",
        "from google.colab import drive\n",
        "\n",
        "import torch\n",
        "from torch.utils.data import Dataset, DataLoader, random_split, RandomSampler, SequentialSampler\n",
        "torch.manual_seed(42)\n",
        "\n",
        "from transformers import GPT2LMHeadModel,  GPT2Tokenizer, GPT2Config, GPT2LMHeadModel\n",
        "from transformers import AdamW, get_linear_schedule_with_warmup\n",
        "\n",
        "import pandas as pd\n",
        "from sklearn.model_selection import train_test_split\n",
        "import re"
      ]
    },
    {
      "cell_type": "code",
      "execution_count": null,
      "metadata": {
        "colab": {
          "base_uri": "https://localhost:8080/"
        },
        "id": "JNhhKyaxTOc9",
        "outputId": "812e5406-a6cb-4fe5-bc2e-74543d6c6718"
      },
      "outputs": [
        {
          "output_type": "stream",
          "name": "stdout",
          "text": [
            "Mounted at /content/drive\n"
          ]
        }
      ],
      "source": [
        "from google.colab import drive\n",
        "drive.mount('/content/drive')"
      ]
    },
    {
      "cell_type": "markdown",
      "metadata": {
        "id": "DNrQ7E1P3AYk"
      },
      "source": [
        ""
      ]
    },
    {
      "cell_type": "code",
      "execution_count": null,
      "metadata": {
        "id": "y7v3yhuY7WTx"
      },
      "outputs": [],
      "source": [
        "!pip install datasets"
      ]
    },
    {
      "cell_type": "markdown",
      "source": [
        "##Data pre processing "
      ],
      "metadata": {
        "id": "rpKJubuWmVTx"
      }
    },
    {
      "cell_type": "code",
      "source": [
        "lyrics = pd.read_csv('/content/drive/MyDrive/lyrics-data.csv')\n",
        "artists = pd.read_csv('/content/drive/MyDrive/artists-data.csv')"
      ],
      "metadata": {
        "id": "XjSHGDw-mUNa"
      },
      "execution_count": null,
      "outputs": []
    },
    {
      "cell_type": "code",
      "source": [
        "full_df = lyrics.merge(artists[['Artist', 'Genres', 'Link']], left_on='ALink', right_on='Link', how='inner')\n",
        "full_df = full_df.drop(columns=['ALink','SLink','Link'])"
      ],
      "metadata": {
        "id": "TXVGTemPmpiq"
      },
      "execution_count": null,
      "outputs": []
    },
    {
      "cell_type": "code",
      "source": [
        "rock_df = full_df[(full_df['Genres'].isin(['Rock']))]\n",
        "hiphop_df = full_df[(full_df['Genres'].isin(['Hip Hop']))]"
      ],
      "metadata": {
        "id": "NN1X2R6Jm_es"
      },
      "execution_count": null,
      "outputs": []
    },
    {
      "cell_type": "code",
      "source": [
        "train_test_ratio = 0.9\n",
        "train_valid_ratio = 0.6\n",
        "rock_train_full, rock_test = train_test_split(rock_df, train_size = train_test_ratio, random_state = 1)\n",
        "rock_train, rock_val = train_test_split(rock_train_full, train_size = train_valid_ratio, random_state = 1)\n",
        "hiphop_train_full, hiphop_test = train_test_split(hiphop_df, train_size = train_test_ratio, random_state = 1)\n",
        "hiphop_train, hiphop_val = train_test_split(hiphop_train_full, train_size = train_valid_ratio, random_state = 1)"
      ],
      "metadata": {
        "id": "1MhkVMKanJ2Y"
      },
      "execution_count": null,
      "outputs": []
    },
    {
      "cell_type": "code",
      "source": [
        "def build_dataset(df, dest_path):\n",
        "    f = open(dest_path, 'w')\n",
        "    data = ''\n",
        "    lyrics_df = df['Lyric'].tolist()\n",
        "    for lyric in lyrics_df:\n",
        "        lyric = str(lyric).strip()\n",
        "        lyric = re.sub(r\"\\s\", \" \", lyric)\n",
        "        bos_token = '<BOS>'\n",
        "        eos_token = '<EOS>'\n",
        "        data += bos_token + ' ' + lyric + ' ' + eos_token + '\\n'\n",
        "        \n",
        "    f.write(data)"
      ],
      "metadata": {
        "id": "oAHG4bwwnUnV"
      },
      "execution_count": null,
      "outputs": []
    },
    {
      "cell_type": "code",
      "source": [
        "build_dataset(rock_train, '/content/drive/MyDrive/Topics in Computing Notebooks/Data/rock_train.txt')\n",
        "build_dataset(rock_val, '/content/drive/MyDrive/Topics in Computing Notebooks/Data/rock_valid.txt')\n",
        "build_dataset(rock_test, '/content/drive/MyDrive/Topics in Computing Notebooks/Data/rock_test.txt')\n",
        "build_dataset(hiphop_df_train, '/content/drive/MyDrive/Topics in Computing Notebooks/Data/hiphop_train.txt')\n",
        "build_dataset(hiphop_val, '/content/drive/MyDrive/Topics in Computing Notebooks/Data/hiphop_valid.txt')\n",
        "build_dataset(hiphop_test, '/content/drive/MyDrive/Topics in Computing Notebooks/Data/hiphop_test.txt')"
      ],
      "metadata": {
        "id": "LQDPmou0ndgq"
      },
      "execution_count": null,
      "outputs": []
    },
    {
      "cell_type": "markdown",
      "metadata": {
        "id": "LBwjIaziKXtU"
      },
      "source": [
        "### Training the Rock and Hip-hop Model"
      ]
    },
    {
      "cell_type": "code",
      "execution_count": null,
      "metadata": {
        "id": "Oo4EU_i9KXtn"
      },
      "outputs": [],
      "source": [
        "!python '/content/drive/MyDrive/run_clm.py' \\\n",
        "  --output_dir='/content/drive/MyDrive/rock_model_final'\\\n",
        "  --model_type=gpt2 \\\n",
        "  --model_name_or_path=gpt2 \\\n",
        "  --do_train \\\n",
        "  --train_file='/content/drive/MyDrive/rock_train.txt'\\\n",
        "  --do_eval \\\n",
        "  --validation_file='/content/drive/MyDrive/rock_valid.txt'\\\n",
        "  --per_device_train_batch_size=2 \\\n",
        "  --per_device_eval_batch_size=2 \\\n",
        "  --learning_rate 5e-5 \\\n",
        "  --num_train_epochs=5"
      ]
    },
    {
      "cell_type": "code",
      "source": [
        "!python '/content/drive/MyDrive/run_clm.py' \\\n",
        "  --output_dir='/content/drive/MyDrive/hiphop_model'\\\n",
        "  --model_type=gpt2 \\\n",
        "  --model_name_or_path=gpt2 \\\n",
        "  --do_train \\\n",
        "  --train_file='/content/drive/MyDrive/hiphop_train.txt'\\\n",
        "  --do_eval \\\n",
        "  --validation_file='/content/drive/MyDrive/hiphop_valid.txt'\\\n",
        "  --per_device_train_batch_size=2 \\\n",
        "  --per_device_eval_batch_size=2 \\\n",
        "  --learning_rate 5e-5 \\\n",
        "  --num_train_epochs=5"
      ],
      "metadata": {
        "id": "UgH_kbinBJ7b"
      },
      "execution_count": null,
      "outputs": []
    },
    {
      "cell_type": "markdown",
      "source": [
        "##Generate lyrics"
      ],
      "metadata": {
        "id": "y7oK9z_vj0Ha"
      }
    },
    {
      "cell_type": "code",
      "source": [
        "!python '/content/drive/MyDrive/run_generation.py' \\\n",
        "  --model_type gpt2 \\\n",
        "  --model_name_or_path '/content/drive/MyDrive/hiphop_model' \\\n",
        "  --prompt \"I love deep learning\" \\\n",
        "  --k 50 \\\n",
        "  --length=500 \\\n",
        "  --num_return_sequences 5"
      ],
      "metadata": {
        "id": "XTOZXFtrjqsj"
      },
      "execution_count": null,
      "outputs": []
    },
    {
      "cell_type": "code",
      "source": [
        "!python '/content/drive/MyDrive/run_generation.py' \\\n",
        "  --model_type gpt2 \\\n",
        "  --model_name_or_path '/content/drive/MyDrive/rock_model_final' \\\n",
        "  --prompt \"I love deep learning\" \\\n",
        "  --k 50 \\\n",
        "  --length=500 \\\n",
        "  --num_return_sequences 5"
      ],
      "metadata": {
        "id": "DelsxfeFjt-q"
      },
      "execution_count": null,
      "outputs": []
    }
  ],
  "metadata": {
    "accelerator": "GPU",
    "colab": {
      "name": "GPT-2_lyric_generate",
      "provenance": [],
      "collapsed_sections": [
        "oxIugSzWf_QI",
        "rpKJubuWmVTx",
        "y7oK9z_vj0Ha"
      ]
    },
    "kernelspec": {
      "display_name": "Python 3",
      "name": "python3"
    },
    "language_info": {
      "name": "python"
    }
  },
  "nbformat": 4,
  "nbformat_minor": 0
}